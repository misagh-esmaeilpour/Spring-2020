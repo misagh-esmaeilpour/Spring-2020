{
 "cells": [
  {
   "cell_type": "markdown",
   "metadata": {},
   "source": [
    "# While Loops"
   ]
  },
  {
   "cell_type": "code",
   "execution_count": 2,
   "metadata": {},
   "outputs": [
    {
     "name": "stdout",
     "output_type": "stream",
     "text": [
      "0\n",
      "1\n",
      "2\n"
     ]
    }
   ],
   "source": [
    "A = 0\n",
    "while A < 3:\n",
    "    print(A)\n",
    "    A += 1"
   ]
  },
  {
   "cell_type": "code",
   "execution_count": 3,
   "metadata": {},
   "outputs": [],
   "source": [
    "## Guessing the number\n",
    "import random"
   ]
  },
  {
   "cell_type": "code",
   "execution_count": 7,
   "metadata": {},
   "outputs": [
    {
     "name": "stdin",
     "output_type": "stream",
     "text": [
      "Guess a number between 1 and 10 1\n"
     ]
    },
    {
     "name": "stdout",
     "output_type": "stream",
     "text": [
      "You guessed it right. The number was: 1\n"
     ]
    }
   ],
   "source": [
    "#### min_value = 1\n",
    "max_value = 10\n",
    "computer_number = random.randint(min_value, max_value)\n",
    "user_guess = ''\n",
    "\n",
    "while computer_number != user_guess:\n",
    "    user_guess = int(input('Guess a number between 1 and 10'))\n",
    "    \n",
    "    if user_guess != computer_number:\n",
    "        print('Try again!')\n",
    "    else:\n",
    "        print('You guessed it right. The number was:', computer_number)\n",
    "        break\n",
    "        \n",
    "    "
   ]
  },
  {
   "cell_type": "markdown",
   "metadata": {},
   "source": [
    "# Mixing solute problem\n",
    "\n",
    "A 1500 gallon tank initially contains 600 gallons of water with 5 lbs of salt dissolved in it. \n",
    "\n",
    "Water enters the tank at a rate of 9 gal/hr and the water entering the tank has a salt concentration of $\\frac{1}{5}(1 + cos(t))$ lbs/gal. \n",
    "\n",
    "If a well-mixed solution leaves the tank at a rate of 6 gal/hr:\n",
    "\n",
    "- how long does it take for the tank to overflow?\n",
    "\n",
    "- how much salt (total amount in lbs) is in the entire tank when it overflows?\n",
    "\n",
    "Assume each iteration is equivalent to one hour"
   ]
  },
  {
   "cell_type": "code",
   "execution_count": 9,
   "metadata": {},
   "outputs": [
    {
     "name": "stdout",
     "output_type": "stream",
     "text": [
      "Hours: 300\n",
      "Tank level when full 1500\n",
      "Mass of salt when full 280 lbs\n"
     ]
    }
   ],
   "source": [
    "# Import modules\n",
    "import math\n",
    "\n",
    "# Initital conditions\n",
    "tank_level = 600 # gal\n",
    "tank_capacity = 1500 # gal\n",
    "inflow_rate = 9 # gal/hr\n",
    "outflow_rate = 6 # gal/hr\n",
    "salt_mass = 5 # lbs\n",
    "counter_hours = 0\n",
    "\n",
    "while tank_level < tank_capacity:\n",
    "    \n",
    "    # Salt amount\n",
    "    salt_inflow = 1/5 * (1 + math.cos(counter_hours))*inflow_rate\n",
    "    salt_outflow = salt_mass/tank_level * outflow_rate\n",
    "    salt_mass = salt_mass + salt_inflow - salt_outflow\n",
    "    \n",
    "    # Water level\n",
    "    tank_level =  tank_level + inflow_rate - outflow_rate\n",
    "    counter_hours = counter_hours + 1\n",
    "    \n",
    "print('Hours:', counter_hours)\n",
    "print('Tank level when full', tank_level)\n",
    "print('Mass of salt when full', round(salt_mass),'lbs')\n"
   ]
  }
 ],
 "metadata": {
  "kernelspec": {
   "display_name": "Python 3",
   "language": "python",
   "name": "python3"
  },
  "language_info": {
   "codemirror_mode": {
    "name": "ipython",
    "version": 3
   },
   "file_extension": ".py",
   "mimetype": "text/x-python",
   "name": "python",
   "nbconvert_exporter": "python",
   "pygments_lexer": "ipython3",
   "version": "3.7.0"
  }
 },
 "nbformat": 4,
 "nbformat_minor": 2
}
