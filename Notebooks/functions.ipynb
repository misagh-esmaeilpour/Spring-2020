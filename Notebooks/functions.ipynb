{
 "cells": [
  {
   "cell_type": "markdown",
   "metadata": {},
   "source": [
    "# Functions"
   ]
  },
  {
   "cell_type": "code",
   "execution_count": 12,
   "metadata": {},
   "outputs": [],
   "source": [
    "# Defining the function\n",
    "h = 15\n",
    "\n",
    "def hypotenuse(a,b):\n",
    "    \"\"\"Function that computes the longest side of \n",
    "    a right-sided triangle.\n",
    "    Inputs must be in cm.\n",
    "    \"\"\"\n",
    "\n",
    "    print(a)\n",
    "    h = (a**2 + b**2)**0.5\n",
    "    return h\n"
   ]
  },
  {
   "cell_type": "code",
   "execution_count": 13,
   "metadata": {},
   "outputs": [
    {
     "name": "stdout",
     "output_type": "stream",
     "text": [
      "3\n",
      "5.0\n",
      "15\n"
     ]
    }
   ],
   "source": [
    "# Calling the function\n",
    "print(hypotenuse(3,4))\n",
    "print(h)\n"
   ]
  }
 ],
 "metadata": {
  "kernelspec": {
   "display_name": "Python 3",
   "language": "python",
   "name": "python3"
  },
  "language_info": {
   "codemirror_mode": {
    "name": "ipython",
    "version": 3
   },
   "file_extension": ".py",
   "mimetype": "text/x-python",
   "name": "python",
   "nbconvert_exporter": "python",
   "pygments_lexer": "ipython3",
   "version": "3.5.6"
  }
 },
 "nbformat": 4,
 "nbformat_minor": 4
}
