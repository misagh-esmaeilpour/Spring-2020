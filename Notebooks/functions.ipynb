{
 "cells": [
  {
   "cell_type": "markdown",
   "metadata": {},
   "source": [
    "# Functions\n",
    "\n",
    "A short introduction to Python functions. In this tutorial we will learn the basic Python syntax including function declaration, inputs, outputs, and documentation (called docstring).\n",
    "\n",
    "Functions allow us to re-use code that does something specific. In simple terms, functions are snippets of code associated to a name, so that we can call them by their name everytime we need them. They are helpful to avoid repeating the same lines of code all over the program we are building. Functions also allow us to reduce error (we don't have to type everything again) and add documentation. \n",
    "\n",
    "Functions make our code more modular. This modularity applies to the current project and may extend to other projects, which means that useful functions that emerge from one project can be used in future projects. The power pf functions comes when you start building your own library of functions. They are one of the most valuable assets in scientific programming.\n",
    "\n",
    ">Functions are like tools in a toolbox, they serve or perform a well defined task and can be re-used multiple times. You grab a tool when you need it and you move on onto the next task.\n",
    "\n",
    "Using an analogy, think of functions as a wrench or a screwdriver everytime you have to adjust a nut or tight up a screw. However, to use a wrench or screwdriver you first have to go and buy it at the hardware store. You can only use a tool that is at hand.\n",
    "\n",
    "So, to understand functions we need to split the process into two steps: \n",
    "\n",
    "**Step 1**: define/declare the function\n",
    "\n",
    "**Step 2**: call/invoke the function\n"
   ]
  },
  {
   "cell_type": "markdown",
   "metadata": {},
   "source": [
    "## Declare function\n",
    "\n",
    "This is the function definition. When we define the function we simple assign the inputs, outputs, and logic of the code, but at this point we are not running the code. That part will occur when we call or invoke the function in the second step. In simple words, declaring a function is like encapsulating some code under a specific name. "
   ]
  },
  {
   "cell_type": "code",
   "execution_count": 92,
   "metadata": {},
   "outputs": [],
   "source": [
    "# Declare function\n",
    "def hypotenuse(a,b):\n",
    "    \n",
    "    \"\"\"\n",
    "    Function that calculates the \n",
    "    longest side of a right-angled triangle\n",
    "    given its two legs.\n",
    "    \n",
    "    Keyword arguments:\n",
    "    a,b -- sides of the right-angle triangle\n",
    "    \n",
    "    Author: Andres Patrignani\n",
    "    Date: 28-Feb-2020\n",
    "    email: andrespatrignani@ksu.edu\n",
    "    \"\"\"\n",
    "    \n",
    "    # Compute hypotenuse\n",
    "    c = (a**2 + b**2)**0.5\n",
    "    \n",
    "    # Output desired variables\n",
    "    return c"
   ]
  },
  {
   "cell_type": "markdown",
   "metadata": {},
   "source": [
    "## Call function\n",
    "\n",
    "Now that we assigned a name and some specific inputs to our code, we can call the function as many times as we want without the need for rewriting the code again."
   ]
  },
  {
   "cell_type": "code",
   "execution_count": 30,
   "metadata": {},
   "outputs": [
    {
     "data": {
      "text/plain": [
       "5.0"
      ]
     },
     "execution_count": 30,
     "metadata": {},
     "output_type": "execute_result"
    }
   ],
   "source": [
    "# Call function\n",
    "hypotenuse(3,4)"
   ]
  },
  {
   "cell_type": "markdown",
   "metadata": {},
   "source": [
    "## Anatomy of a function\n",
    "\n",
    "\n",
    "- Import modules outside the function\n",
    "\n",
    "- Assign meaningful names to functions.\n",
    "\n",
    "- Typically function names are all in lower case.\n",
    "\n",
    "- The ``return` statement indicates the end of the function. Lines after the `return` statement will not be executed by the interporeter. This also applies to `if statements`. As soon as the function hits the line with the `return` statement it will terminate execution.\n",
    "\n",
    "<img src=\"../docs/_media/anatomy_function.png\" />"
   ]
  },
  {
   "cell_type": "markdown",
   "metadata": {},
   "source": [
    "## Function docstring\n",
    "\n",
    "The function `docstring` is defined as a multi-line string `'''Like this'''` and consists of a summary line about the function and a brief description of the inputs. Function documentation needs to be succint and clear, but you can also add units, examples, author, creation date and contact information. The personal information can be omitted, but for personal and research projects I like to include this information in case I share the code with students and colleagues. Here are some suggestions to write brief and meaningful docstrings:\n",
    "\n",
    "- A brief description of the purpose of the function (20 words or less)\n",
    "- A brief description about the format of the input variable\n",
    "- Author's full name\n",
    "- Date of creation\n",
    "\n",
    "Let's see what happens when we print the help of our function\n"
   ]
  },
  {
   "cell_type": "code",
   "execution_count": 31,
   "metadata": {},
   "outputs": [
    {
     "data": {
      "text/plain": [
       "\u001b[0;31mSignature:\u001b[0m \u001b[0mhypotenuse\u001b[0m\u001b[0;34m(\u001b[0m\u001b[0ma\u001b[0m\u001b[0;34m,\u001b[0m \u001b[0mb\u001b[0m\u001b[0;34m)\u001b[0m\u001b[0;34m\u001b[0m\u001b[0;34m\u001b[0m\u001b[0m\n",
       "\u001b[0;31mDocstring:\u001b[0m\n",
       "Function that calculates the \n",
       "longest side of a right-angled triangle\n",
       "given its two legs.\n",
       "\n",
       "Keyword arguments:\n",
       "a,b -- Sides of the right-angle triangle\n",
       "\n",
       "Author: Andres Patrignani\n",
       "Date: 28-Feb-2020\n",
       "email: andrespatrignani@ksu.edu\n",
       "\u001b[0;31mFile:\u001b[0m      ~/Dropbox/Teaching/Scientific programming/pynotes/notebooks/<ipython-input-29-ed44cb9b871d>\n",
       "\u001b[0;31mType:\u001b[0m      function\n"
      ]
     },
     "metadata": {},
     "output_type": "display_data"
    }
   ],
   "source": [
    "hypotenuse?"
   ]
  },
  {
   "cell_type": "markdown",
   "metadata": {},
   "source": [
    "## Additional comments\n",
    "\n",
    "Before we proceed is probably a good idea to point out some of the limitations and assumptions of our recently defined `hypotenuse()` function:\n",
    "\n",
    "- The function assumes the side of the right-angle triangle had the same units.\n",
    "\n",
    "- Documentation gives little insight to a user that doesn't know what a right-angle triangle is.\n",
    "\n",
    "- The function does not have error checks.  What happens if the user adds an invalid input (e.g. a string)?\n"
   ]
  },
  {
   "cell_type": "markdown",
   "metadata": {},
   "source": [
    "## Order of inputs and default values\n",
    "\n",
    "The order of the inputs matter when calling a function. Python has a specific syntax to ensure that input arguments don't get mixed up even if the inputs are passed to the function in a different order than the specified order when the function was defined.\n",
    "\n",
    "For the example we will use the Young-Laplace equation for estimating the height of a liquid within a narrow capillary tube. This equation is often used in soil science to approximate the height of capillary rise (e.g. from a water table) or to find the average pore radius (when solve for *r* instead of *h*.\n",
    "\n",
    "$$ h = \\frac{2 \\gamma cos(\\alpha)}{\\rho g r}$$\n",
    "\n",
    "$\\gamma$ is the surface tension of the liquid in $N m^{-1}$.\n",
    "\n",
    "$\\alpha$ contact angle of the liquid-air interface. About 20 degrees for water in contact with soil and about 0 degrees for water on glass.\n",
    "\n",
    "$\\rho$ density of the fluid in $kg m^{-3}$\n",
    "\n",
    "$g$ acceleration due to gravity in $m s^{-2}$\n",
    "\n",
    "$r$ radius of the capillary tube in $m$\n",
    "\n",
    ">To simplify the input of the radius into the function we will pass the radius in micrometers and we will convert it into meters within the function."
   ]
  },
  {
   "cell_type": "code",
   "execution_count": 99,
   "metadata": {},
   "outputs": [],
   "source": [
    "# Define function\n",
    "import math\n",
    "\n",
    "\n",
    "def capillary(radius,surface_tension=0.073,contact_angle=20,density=1000):\n",
    "    \"\"\"\n",
    "    Function that approximates the height of capillary rise\n",
    "    given the radius of the capillary tube (or average soil prore radius).\n",
    "    Function implements the Young-Laplace equation.\n",
    "    \n",
    "    Input variables:\n",
    "    radius-- radius of the capillary tube (or mean pore radius) in micrometers\n",
    "    surface_tension -- surface tension. Default 0.073 N/m for water at 20 Celsius \n",
    "    contact_angle -- contact angle of the liquid-gas interface. Default 20 degrees\n",
    "    density -- Density of the fluid in kg/m^3. Default 1000 kg/m^3 for water\n",
    "    \n",
    "    Output variables\n",
    "    height -- height of the resulting water column in meters\n",
    "    \n",
    "    Author: Andres Patrignani\n",
    "    Date: 28-Jan-2020\n",
    "    email: andrespatrignani@ksu.edu\"\"\"\n",
    "    \n",
    "    # Define constants\n",
    "    gravity = 9.81       # Acceleration due to gravity in m/s^2\n",
    "\n",
    "    # Change units of input radius to match all other units in meters\n",
    "    radius_m = radius/10**6  # convert from micrometers to meters\n",
    "    \n",
    "    # Save radius in cm for output purposes\n",
    "    radius_cm = radius/10**4 # convert from micrometers to centimeters\n",
    "    \n",
    "    # Convert contact angle into radians (required by the math module)\n",
    "    contact_angle = math.radians(contact_angle) \n",
    "    \n",
    "    # Compute capillary rise using Young-Laplace equation\n",
    "    numerator = 2*surface_tension*math.cos(contact_angle)\n",
    "    denominator = density*gravity*radius_m\n",
    "    height = numerator/denominator # height in meters\n",
    "    \n",
    "    # Convert height into cm for more intuitive output\n",
    "    height_cm = round(height*100,2) # height in centimeters\n",
    "\n",
    "    return height_cm,radius_cm\n",
    "    #return dict({\"height_cm\":height_cm, \"radius_cm\":radius_cm})"
   ]
  },
  {
   "cell_type": "markdown",
   "metadata": {},
   "source": [
    "### Call with one input"
   ]
  },
  {
   "cell_type": "code",
   "execution_count": 97,
   "metadata": {},
   "outputs": [
    {
     "data": {
      "text/plain": [
       "(1398.52, 0.0001)"
      ]
     },
     "execution_count": 97,
     "metadata": {},
     "output_type": "execute_result"
    }
   ],
   "source": [
    "# Call function with one input\n",
    "radius = 1 # radius in micrometers\n",
    "capillary(radius)\n"
   ]
  },
  {
   "cell_type": "markdown",
   "metadata": {},
   "source": [
    "In the previous call we only had to provide the function with one input. The rest of the inputs have a default value in case the user does not provide all the details. Default values are typical values to speed up the function call. In our previous example the default values correspond to the physical properties of water in soil, which is one of the most common contexts in which the equation above is applied."
   ]
  },
  {
   "cell_type": "markdown",
   "metadata": {},
   "source": [
    "### Call with two inputs\n",
    "\n",
    "Users can change override default values by explicitly specifying the value of the other parameters in the function call. By being explicit we can pass the value of the input argument in any order in the function call. If we want to modify the contact angle to a value other than 20 degrees, we can specify it like this:"
   ]
  },
  {
   "cell_type": "code",
   "execution_count": 98,
   "metadata": {},
   "outputs": [
    {
     "data": {
      "text/plain": [
       "(956.65, 0.0001)"
      ]
     },
     "execution_count": 98,
     "metadata": {},
     "output_type": "execute_result"
    }
   ],
   "source": [
    "# Call function with two inputs\n",
    "capillary(radius, contact_angle=50)\n"
   ]
  },
  {
   "cell_type": "markdown",
   "metadata": {},
   "source": [
    "### Wrong call"
   ]
  },
  {
   "cell_type": "markdown",
   "metadata": {},
   "source": [
    "What happens if we call the function with more inputs, we are not explicit, and we also change the order of the inputs? Will Python still recognize `radius` as the radius of the capillary regardless of the order of the input arguments in the function call?\n"
   ]
  },
  {
   "cell_type": "code",
   "execution_count": 90,
   "metadata": {},
   "outputs": [
    {
     "data": {
      "text/plain": [
       "(138.83, 0.0138)"
      ]
     },
     "execution_count": 90,
     "metadata": {},
     "output_type": "execute_result"
    }
   ],
   "source": [
    "# Call function with two inputs\n",
    "alpha = 138 # contact angle liquid-air interface of mercury in contact with glass.\n",
    "capillary(alpha, radius)\n"
   ]
  },
  {
   "cell_type": "markdown",
   "metadata": {},
   "source": [
    "In this case the function treats the first input argument `alpha` as the radius, and the radius as surface tension. **The repvious function call is wrong**. If we don't specify the name of the input during the function call, then must obey the order of the inputs as defined in the function. \n"
   ]
  },
  {
   "cell_type": "markdown",
   "metadata": {},
   "source": [
    "### The right call \n",
    "\n",
    "The correct call for the previous example would be as a follows:"
   ]
  },
  {
   "cell_type": "code",
   "execution_count": 84,
   "metadata": {},
   "outputs": [
    {
     "data": {
      "text/plain": [
       "(-1106.01, 0.0001)"
      ]
     },
     "execution_count": 84,
     "metadata": {},
     "output_type": "execute_result"
    }
   ],
   "source": [
    "capillary(radius, contact_angle=alpha)"
   ]
  },
  {
   "cell_type": "markdown",
   "metadata": {},
   "source": [
    "or alternatively"
   ]
  },
  {
   "cell_type": "code",
   "execution_count": 85,
   "metadata": {},
   "outputs": [
    {
     "data": {
      "text/plain": [
       "(-1106.01, 0.0001)"
      ]
     },
     "execution_count": 85,
     "metadata": {},
     "output_type": "execute_result"
    }
   ],
   "source": [
    "capillary(contact_angle=alpha, radius=radius)"
   ]
  },
  {
   "cell_type": "markdown",
   "metadata": {},
   "source": [
    "In the case of mercury, there is a capillary fall instead of rise. \n",
    "\n",
    "Now we obtained the correct result despite the input arguments were passed in a different order compared to the order in the function definition.\n",
    "\n",
    "These type of syntax is common in plotting libraries, which have a large number of input arguments and it is impossible to remember the order of each input argument. This, way we can set the marker= or line= property without worrying about the order.\n"
   ]
  },
  {
   "cell_type": "markdown",
   "metadata": {},
   "source": [
    "### Return\n",
    "\n",
    "By default when returning multiple output arguments separated by commas Python returns a tuple. Tuples might not be the most convenient since we need to know the order and meaning of the values. Perhaps a better and more explicit output format is to use a dictionary.\n",
    "\n",
    "I suggest you mute this line: `return height_cm,radius_cm` and unmute this line: `    #return dict({\"height_cm\":height_cm, \"radius_cm\":radius_cm})` in the capillary function defined above to see the difference. Don't forget to re-run the cell to update the function definition and then call the function again to see the results.\n",
    "\n",
    "> Muting code means that we turn a line of code into a comment by adding a `#` sign at the beginning of the line of code to make Python believe this line is a comment. This way you can keep alternative lines of code around your code that will be ignored during execution. \n"
   ]
  },
  {
   "cell_type": "markdown",
   "metadata": {},
   "source": [
    "## Variable scope\n",
    "\n",
    "An important, and perhaps not so obvious, concept is that functions have their own variable workspace. This means that while the function is being executed by the interporeter, the variables defined within the function are in a different container compared to the variables define in the code outside the function.\n",
    "\n",
    ">`global` variables can be accessed from anywhere in your code, but its use is not recommend (unless you know exactly what you are doing). In short code snippets it is trivial to manage global variabkes, but when building extensive programs the chances of conlficts with other variables and errors grow quickly.\n",
    "\n",
    "- What happens if we have a variable with the same name inside a function and outside the function?\n",
    "- Will the variable inside the function adopt the value defined outside the function?\n",
    "\n",
    "- Will the variable inside the function be independent of its counterpart outside the function?\n",
    "\n",
    "- How do we write our code if for semantic reasons we need to assign the same name to variables inside and outside the function?\n"
   ]
  },
  {
   "cell_type": "code",
   "execution_count": 100,
   "metadata": {},
   "outputs": [
    {
     "name": "stdout",
     "output_type": "stream",
     "text": [
      "Value of max_val outside the function is: 15\n",
      "Value of max_val inside the function is: 101\n",
      "5050\n",
      "Value of max_val outside the function is: 15\n"
     ]
    }
   ],
   "source": [
    "# A dummy variable to allow us see the scope of the variable\n",
    "max_val = 15 \n",
    "print('Value of max_val outside the function is:', max_val)\n",
    "\n",
    "# Declare function\n",
    "def onehundred():\n",
    "    \"\"\"Function calculates the sum of all integers from 1 to 100.\n",
    "    Created by Andres Patrignani on 20-feb-2019\n",
    "    \"\"\"\n",
    "    \n",
    "    max_val = 101\n",
    "    print('Value of max_val inside the function is:', max_val)\n",
    "    \n",
    "    # Compute and return the sum from 0 to max_val\n",
    "    return sum(range(max_val))\n",
    "\n",
    "\n",
    "# Call function\n",
    "print(onehundred())\n",
    "print('Value of max_val outside the function is:', max_val)"
   ]
  },
  {
   "cell_type": "markdown",
   "metadata": {},
   "source": [
    "## Additional function examples\n",
    "\n",
    "Functions typically require inputs, but that condition does not always need to be satisfied. In many cases functions do not require any input arguments."
   ]
  },
  {
   "cell_type": "code",
   "execution_count": 2,
   "metadata": {},
   "outputs": [
    {
     "name": "stdout",
     "output_type": "stream",
     "text": [
      "5050\n"
     ]
    }
   ],
   "source": [
    "# Version using a for loop - No inputs\n",
    "def onehundred():\n",
    "    \"\"\"Function calculates the sum of all integers from 1 to 100.\n",
    "    Created by Andres Patrignani on 20-feb-2019\n",
    "    \"\"\"\n",
    "    cumulative_sum = 0;\n",
    "    for i in range(101):\n",
    "        cumulative_sum = cumulative_sum + i\n",
    "    return cumulative_sum\n",
    "\n",
    "\n",
    "# Call function\n",
    "print(onehundred())\n",
    "    "
   ]
  },
  {
   "cell_type": "markdown",
   "metadata": {},
   "source": [
    "Functions are great for converting units"
   ]
  },
  {
   "cell_type": "code",
   "execution_count": 7,
   "metadata": {},
   "outputs": [
    {
     "data": {
      "text/plain": [
       "38.681999999999995"
      ]
     },
     "execution_count": 7,
     "metadata": {},
     "output_type": "execute_result"
    }
   ],
   "source": [
    "# Declare function\n",
    "def degtodec(degrees, minutes, seconds):\n",
    "    \"\"\"A function to convert angles in degree-minute-second format\n",
    "    into decimal degrees.\"\"\"\n",
    "    \n",
    "    if degrees < 0 or degrees > 360:\n",
    "        raise Exception('Degrees must be between 0 and 360')\n",
    "    \n",
    "    if minutes < 0 or minutes > 60:\n",
    "        raise Exception('Minutes must be between 0 and 60')\n",
    "        \n",
    "    if seconds < 0 or seconds > 60:\n",
    "        raise Exception('Seconds must be between 0 and 60')\n",
    "    \n",
    "    decimal = degrees + minutes/60 + seconds/3600\n",
    "    return decimal\n",
    "\n",
    "# Call function\n",
    "degtodec(38,40,55.2)"
   ]
  }
 ],
 "metadata": {
  "kernelspec": {
   "display_name": "Python 3",
   "language": "python",
   "name": "python3"
  },
  "language_info": {
   "codemirror_mode": {
    "name": "ipython",
    "version": 3
   },
   "file_extension": ".py",
   "mimetype": "text/x-python",
   "name": "python",
   "nbconvert_exporter": "python",
   "pygments_lexer": "ipython3",
   "version": "3.7.6"
  }
 },
 "nbformat": 4,
 "nbformat_minor": 4
}
